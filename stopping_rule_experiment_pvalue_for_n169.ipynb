{
 "cells": [
  {
   "cell_type": "markdown",
   "metadata": {},
   "source": [
    "## どこかが多分，間違えているが，どこなのか検討中"
   ]
  },
  {
   "cell_type": "markdown",
   "metadata": {},
   "source": [
    "$X_1, X_2, X_3, ... \\sim iid\\ \\ N(\\mu, 1^2)$に従っていることを知っており，$\\mu$の推測に関心がある．\n",
    "\n",
    "$\\sigma=1$は既知.\n",
    "\n",
    "通常の両側$z$検定で「5%有意」になるまで逐次的に実験を行う．\n",
    "\n",
    "帰無仮説$H_0$は，「$\\mu=0$」．\n",
    "\n",
    "ちょうど$n = 169$回で「5\\%有意」になった時のp値は？\n",
    "\n",
    "つまり，前提および帰無仮説が真のもとで，$n \\le 169$において「5\\%有意」となる確率は？\n"
   ]
  },
  {
   "cell_type": "code",
   "execution_count": 1,
   "metadata": {},
   "outputs": [
    {
     "data": {
      "text/html": [
       "0.4116"
      ],
      "text/latex": [
       "0.4116"
      ],
      "text/markdown": [
       "0.4116"
      ],
      "text/plain": [
       "[1] 0.4116"
      ]
     },
     "metadata": {},
     "output_type": "display_data"
    }
   ],
   "source": [
    "set.seed(111111)\n",
    "nsim <- 10000\n",
    "check <- array(0, nsim)\n",
    "z <- qnorm(0.975)\n",
    "nstop <- 169\n",
    "for(i in 1:nsim){\n",
    "  x <- array(NA, nstop)\n",
    "  for(j in 1:nstop){\n",
    "    x[j] <- rnorm(1, mean = 0, sd = 1)\n",
    "    s <- sum(x, na.rm = TRUE)\n",
    "    if(abs(s) >= (z * sqrt(j))){\n",
    "      check[i] <- 1\n",
    "      break\n",
    "    }\n",
    "  }\n",
    "}\n",
    "mean(check)"
   ]
  }
 ],
 "metadata": {
  "kernelspec": {
   "display_name": "R",
   "language": "R",
   "name": "ir"
  },
  "language_info": {
   "codemirror_mode": "r",
   "file_extension": ".r",
   "mimetype": "text/x-r-source",
   "name": "R",
   "pygments_lexer": "r",
   "version": "4.0.3"
  }
 },
 "nbformat": 4,
 "nbformat_minor": 4
}
