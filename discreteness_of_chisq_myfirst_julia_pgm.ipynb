{
 "cells": [
  {
   "cell_type": "markdown",
   "metadata": {},
   "source": [
    "## 2つの二項分布から生成される表に対するカイ2乗値が離散的であることを確認するプログラム\n",
    "\n",
    "以下のプログラムでは，次のことを行っている．\n",
    "\n",
    "$ Y_1 \\sim Bin(n_1, \\pi_1), Y_2 \\sim Bin(n_2, \\pi_2)$で乱数を生成し，各表に対して\n",
    "\n",
    "- Pearsonの$X^2$検定統計量の値，および，\n",
    "- mid-pを$\\chi^2$分布の分位点で変換した値\n",
    " \n",
    "を計算する．\n",
    "\n",
    "複数の表に対して計算されたそれらの統計量をまとめ，ユニークな値を求める．\n",
    "\n",
    "** 私は，Julia歴「2時間弱」なので，以下のコードはかなり汚いし，意味不明なことをしているに違いない．すみません...**\n",
    "\n"
   ]
  },
  {
   "cell_type": "code",
   "execution_count": 84,
   "metadata": {},
   "outputs": [
    {
     "name": "stdout",
     "output_type": "stream",
     "text": [
      "Julia Version 1.3.0\n",
      "Commit 46ce4d7933 (2019-11-26 06:09 UTC)\n",
      "Platform Info:\n",
      "  OS: Windows (x86_64-w64-mingw32)\n",
      "  CPU: Intel(R) Core(TM) i3-5005U CPU @ 2.00GHz\n",
      "  WORD_SIZE: 64\n",
      "  LIBM: libopenlibm\n",
      "  LLVM: libLLVM-6.0.1 (ORCJIT, broadwell)\n"
     ]
    }
   ],
   "source": [
    "#バージョンの表示\n",
    "versioninfo()"
   ]
  },
  {
   "cell_type": "code",
   "execution_count": 85,
   "metadata": {},
   "outputs": [
    {
     "name": "stdout",
     "output_type": "stream",
     "text": [
      "\n",
      "カイ2乗分位点\n",
      "通常のPearsonカイ2乗\n",
      "[0.9, 1.2857142857, 0.5625, 2.25, 0.225, 0.3214285714, 0.0, 3.6, 5.1428571429, 5.625, 9.0]\n",
      "11\n",
      "mid-pのカイ2乗分位点\n",
      "[0.8908831485, 1.1119121515, 0.1855260064, 2.4298061542, 0.0917971519, 0.1015310443, 0.1171531678, 2.5958660697, 4.1486932801, 5.1084542765, 0.4549364231, 1.9126727556, 7.5646622112]\n",
      "13\n"
     ]
    }
   ],
   "source": [
    "# 確率関数のパッケージをインポート\n",
    "##import Pkg; Pkg.add(\"Distributions\")\n",
    "\n",
    "# 確率関数のパッケージは Distributions\n",
    "using Distributions\n",
    "\n",
    "# 2×2表から，通常のPearsonカイ2乗統計量を計算する\n",
    "function chisq2by2(y1, y2, n1, n2)\n",
    "    # 引数は，y1 ～ Bin(n1, pi),  y2 ～ Bin(n2, p2)\n",
    "    p1 = y1 / n1\n",
    "    p2 = y2 / n2\n",
    "    n = n1 + n2\n",
    "    y = y1 + y2\n",
    "    p = y / n\n",
    "    if p == 0 || p == 1\n",
    "        chisq = 0 # ゼロのときはカイ2乗値をゼロ\n",
    "    else\n",
    "        chisq = (p1 - p2)^2  / ((1/n1 + 1/n2) * p * (1-p))\n",
    "    end\n",
    "    return round(chisq, digits = 10) #最終的にユニークな値をカウントしたいので，ここでは丸めています\n",
    "end\n",
    "\n",
    "\n",
    "# 2×2表からmid-Pを計算し，そこからカイ2乗分布の分位点を計算する\n",
    "function qchisq_midp_2by2(y1, y2, n1, n2)\n",
    "    y = y1 + y2\n",
    "    dist_hyp = Hypergeometric(n1, n2, y)\n",
    "    prob_now = pdf(dist_hyp, y1)\n",
    "    imax = min(n1, y)\n",
    "    midp = 0    \n",
    "    for i in 0:imax\n",
    "        prob_temp = pdf(dist_hyp, i)\n",
    "        if isapprox(prob_temp, prob_now)　# isapprox関数は，approx equalを判定\n",
    "            midp += 0.5 * prob_now        # mid-p\n",
    "        elseif prob_temp < prob_now      # 小さければ，そのまま足す\n",
    "            midp += prob_temp\n",
    "        end\n",
    "    end\n",
    "    chisq = quantile.(Chisq(1), 1 - midp)  # mid-pをカイ2乗分布の分位点に変換\n",
    "    return round(chisq, digits = 10)       # #最終的にユニークな値をカウントしたいので，ここでは丸めています\n",
    "end\n",
    "\n",
    "nsim = 1e6 # 乱数シミュレーションの回数\n",
    "n1 = 6     # 第1群の標本サイズ\n",
    "n2 = 3     # 第2群の標本サイズ\n",
    "pi = 1 / 3 # 二項分布でのイベントが生じる確率\n",
    "\n",
    "dist_bin1 = Binomial(n1, pi)\n",
    "dist_bin2 = Binomial(n2, pi)\n",
    "\n",
    "chisq_pearson =  Float64[] #Juliaでの配列の使い方がよく分からないので泥臭く，空の配列を準備\n",
    "chisq_midp =  Float64[]    #Juliaでの配列の使い方がよく分からないので泥臭く，空の配列を準備\n",
    "\n",
    "for i in 1:nsim\n",
    "    y1 = rand(dist_bin1)\n",
    "    y2 = rand(dist_bin2)\n",
    "    push!(chisq_pearson, chisq2by2(y1, y2, n1, n2))     #配列にプッシュ\n",
    "    push!(chisq_midp, qchisq_midp_2by2(y1, y2, n1, n2)) #配列にプッシュ\n",
    "end\n",
    "\n",
    "# ユニークな値を取得\n",
    "nlevels_pearson = unique(chisq_pearson)\n",
    "nlevels_midp = unique(chisq_midp)\n",
    "\n",
    "# 結果の表示\n",
    "print(\"\\n\")\n",
    "print(\"カイ2乗分位点\", \"\\n\")\n",
    "print(\"通常のPearsonカイ2乗\", \"\\n\")\n",
    "print(nlevels_pearson, \"\\n\")\n",
    "print(length(nlevels_pearson), \"\\n\")\n",
    "print(\"mid-pのカイ2乗分位点\", \"\\n\")\n",
    "print(nlevels_midp, \"\\n\")\n",
    "print(length(nlevels_midp), \"\\n\")"
   ]
  },
  {
   "cell_type": "code",
   "execution_count": null,
   "metadata": {},
   "outputs": [],
   "source": []
  }
 ],
 "metadata": {
  "kernelspec": {
   "display_name": "Julia 1.3.0",
   "language": "julia",
   "name": "julia-1.3"
  },
  "language_info": {
   "file_extension": ".jl",
   "mimetype": "application/julia",
   "name": "julia",
   "version": "1.3.0"
  }
 },
 "nbformat": 4,
 "nbformat_minor": 2
}
