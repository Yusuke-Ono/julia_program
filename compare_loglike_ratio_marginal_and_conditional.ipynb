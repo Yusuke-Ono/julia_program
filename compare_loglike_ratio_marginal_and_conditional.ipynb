{
 "cells": [
  {
   "cell_type": "markdown",
   "metadata": {},
   "source": [
    "## 全体尤度から計算される対数尤度比と，条件付き尤度から計算される対数尤度比を比較\n",
    "\n",
    "以下のプログラムでは，同じデータに対する，次の3つの異なるモデルの対数尤度比を比較します．\n",
    "\n",
    "** $r \\times c$個のPoisson分布 **\n",
    "\n",
    "$ Y_{ij} \\sim Poi(\\lambda_{ij}) $\n",
    "\n",
    "** 1個の多項分布（$r \\times c$項分布） = 全体の度数で条件付け**\n",
    "\n",
    "$ Y_{ij} \\sim Mult(n, p_{ij}) $\n",
    "\n",
    "** r個の多項分布($c$項分布) = 行和で条件付け **\n",
    "\n",
    "$ Y_{ij} \\sim Mult(n_i, \\pi_{j}) \\ ({\\rm for}\\ i = 1,2, \\cdots, r)$\n",
    "\n"
   ]
  },
  {
   "cell_type": "code",
   "execution_count": 63,
   "metadata": {},
   "outputs": [
    {
     "name": "stdout",
     "output_type": "stream",
     "text": [
      "Julia Version 1.3.0\n",
      "Commit 46ce4d7933 (2019-11-26 06:09 UTC)\n",
      "Platform Info:\n",
      "  OS: Windows (x86_64-w64-mingw32)\n",
      "  CPU: Intel(R) Core(TM) i3-5005U CPU @ 2.00GHz\n",
      "  WORD_SIZE: 64\n",
      "  LIBM: libopenlibm\n",
      "  LLVM: libLLVM-6.0.1 (ORCJIT, broadwell)\n"
     ]
    }
   ],
   "source": [
    "#バージョンの表示\n",
    "versioninfo()"
   ]
  },
  {
   "cell_type": "code",
   "execution_count": 58,
   "metadata": {},
   "outputs": [
    {
     "name": "stdout",
     "output_type": "stream",
     "text": [
      "r×c個のPoisson分布を仮定したときの対数尤度比\n",
      "0.2955265331275825\n",
      "\n",
      "1個の多項分布（r×c項分布）を仮定したときの対数尤度比\n",
      "0.29552653312758714\n",
      "\n",
      "r個の多項分布（c項分布）を仮定したときの対数尤度比\n",
      "0.29552653312757915\n",
      "\n"
     ]
    }
   ],
   "source": [
    "# 確率関数のパッケージをインポート\n",
    "##import Pkg; Pkg.add(\"Distributions\")\n",
    "\n",
    "# 確率関数のパッケージは Distributions\n",
    "using Distributions\n",
    "\n",
    "#周辺度数を計算するためのサブ関数\n",
    "function calc_marginal(y)\n",
    "    c = sum(y, dims = 1)\n",
    "    nc = length(c)\n",
    "    r = sum(y, dims = 2)\n",
    "    nr = length(r)\n",
    "    n = sum(r)\n",
    "    return c, nc, r, nr, n\n",
    "end    \n",
    "\n",
    "#r×c個のPoisson分布を仮定したときの尤度比\n",
    "function calc_LR_poi(y)\n",
    "    c, nc, r, nr, n = calc_marginal(y)\n",
    "    #r×c個のPoisson分布：帰無仮説の下でのパラメータ推定値\n",
    "    e0 = r * c / n\n",
    "    lr = 0.0\n",
    "    for i in 1:nr\n",
    "        for j in 1:nc\n",
    "            lr += log(pdf(Poisson(y[i,j]), y[i,j])) - log(pdf(Poisson(e0[i,j]), y[i,j]))        \n",
    "        end\n",
    "    end\n",
    "    return lr\n",
    "end\n",
    "\n",
    "#1個の多項分布（r×c項分布）を仮定したときの尤度比\n",
    "# 注意！：定数項（n!/(y11!y12! ...y_{rc}!)は面倒なので省略しました．\n",
    "function calc_LR_mult(y)\n",
    "    c, nc, r, nr, n = calc_marginal(y)\n",
    "    #１個のr×c項分布：帰無仮説の下でのパラメータ推定値\n",
    "    p0 = r * c / n^2\n",
    "    p1 = y / n\n",
    "    lr = 0.0\n",
    "    for i in 1:nr\n",
    "        for j in 1:nc\n",
    "            lr += y[i, j] * log(p1[i, j]) - y[i, j] * log(p0[i, j])        \n",
    "        end\n",
    "    end\n",
    "    return lr\n",
    "end\n",
    "\n",
    "\n",
    "#1個の多項分布（r×c項分布）を仮定したときの尤度比\n",
    "# 注意！：定数項（n_i!/(y_{i1}!y_{i2}! ...y_{ic}!)は面倒なので省略しました．\n",
    "function calc_LR_multiple_mult(y)\n",
    "    c, nc, r, nr, n = calc_marginal(y)\n",
    "    lr = 0.0\n",
    "    p0 = c / n\n",
    "    for i in 1:nr\n",
    "        #r個のc項分布：帰無仮説の下でのパラメータ推定値\n",
    "        p1 = y[i,:] / r[i]\n",
    "        for j in 1:nc\n",
    "            lr += y[i, j] * log(p1[j]) - y[i, j] * log(p0[j])        \n",
    "        end\n",
    "    end\n",
    "    return lr\n",
    "end\n",
    "\n",
    "\n",
    "\n",
    "y = [3.0 4.0 8.0; \n",
    "    5.0 8.0 9.0]\n",
    "\n",
    "print(\"r×c個のPoisson分布を仮定したときの対数尤度比\", \"\\n\")\n",
    "print(calc_LR_poi(y), \"\\n\\n\")\n",
    "print(\"1個の多項分布（r×c項分布）を仮定したときの対数尤度比\", \"\\n\")\n",
    "print(calc_LR_mult(y), \"\\n\\n\")\n",
    "print(\"r個の多項分布（c項分布）を仮定したときの対数尤度比\", \"\\n\")\n",
    "print(calc_LR_multiple_mult(y), \"\\n\\n\")\n"
   ]
  }
 ],
 "metadata": {
  "kernelspec": {
   "display_name": "Julia 1.3.0",
   "language": "julia",
   "name": "julia-1.3"
  },
  "language_info": {
   "file_extension": ".jl",
   "mimetype": "application/julia",
   "name": "julia",
   "version": "1.3.0"
  }
 },
 "nbformat": 4,
 "nbformat_minor": 2
}
